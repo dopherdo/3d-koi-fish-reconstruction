{
 "cells": [
  {
   "cell_type": "code",
   "execution_count": 3,
   "id": "19916b1b-e6e2-4120-b3b0-bcb391a9c905",
   "metadata": {},
   "outputs": [],
   "source": [
    "# Add scripts to import path\n",
    "import sys\n",
    "sys.path.append('scripts')\n",
    "\n",
    "# Imports\n",
    "import numpy as np\n",
    "import pickle\n",
    "from reconstruct import reconstruct\n",
    "# from decoding import decode     # (if implemented)\n",
    "# from meshutils import writeply  # (if implemented)\n"
   ]
  },
  {
   "cell_type": "code",
   "execution_count": null,
   "id": "79e8974c",
   "metadata": {},
   "outputs": [],
   "source": []
  },
  {
   "cell_type": "code",
   "execution_count": 4,
   "id": "5f836b27-e21b-49b3-8053-bd969fe874e2",
   "metadata": {},
   "outputs": [],
   "source": [
    "with open(\"outputs/cache/calib_C0.pickle\", \"rb\") as f:\n",
    "    calib_C0 = pickle.load(f)\n",
    "\n",
    "with open(\"outputs/cache/calib_C1.pickle\", \"rb\") as f:\n",
    "    calib_C1 = pickle.load(f)"
   ]
  },
  {
   "cell_type": "code",
   "execution_count": null,
   "id": "a17c5b74-8be0-4b09-88a4-a0099162d63a",
   "metadata": {},
   "outputs": [],
   "source": []
  },
  {
   "cell_type": "code",
   "execution_count": null,
   "id": "e634344d-5332-4181-86b3-e61fb77f2570",
   "metadata": {},
   "outputs": [],
   "source": []
  },
  {
   "cell_type": "code",
   "execution_count": null,
   "id": "b555f3a2-6c2a-4782-b37a-b6a05067dfab",
   "metadata": {},
   "outputs": [],
   "source": []
  }
 ],
 "metadata": {
  "kernelspec": {
   "display_name": "Python 3 (ipykernel)",
   "language": "python",
   "name": "python3"
  },
  "language_info": {
   "codemirror_mode": {
    "name": "ipython",
    "version": 3
   },
   "file_extension": ".py",
   "mimetype": "text/x-python",
   "name": "python",
   "nbconvert_exporter": "python",
   "pygments_lexer": "ipython3",
   "version": "3.12.2"
  }
 },
 "nbformat": 4,
 "nbformat_minor": 5
}
